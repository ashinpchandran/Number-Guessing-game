{
 "cells": [
  {
   "cell_type": "code",
   "execution_count": null,
   "metadata": {},
   "outputs": [],
   "source": [
    "from random import randint\n",
    "\n",
    "num = randint(1, 20)\n",
    "guess = 0\n",
    "guess_count = 1\n",
    "\n",
    "while guess is not num:\n",
    "    if guess_count <= 3:\n",
    "        guess = input('Please guess a number between 1-20, you have three guesses: ')\n",
    "        guess = int(guess)\n",
    "        if guess > 20:\n",
    "            print('PLease select a number between 1-20')\n",
    "        elif guess == num:\n",
    "            print('You got it')\n",
    "        elif guess < num:\n",
    "            print('You are low')\n",
    "            guess_count += 1\n",
    "        else:\n",
    "            print('You are high')\n",
    "            guess_count += 1\n",
    "    else:\n",
    "        print('You are out if guesses\\nYou lose, you get nothing!')\n",
    "        break            "
   ]
  },
  {
   "cell_type": "code",
   "execution_count": null,
   "metadata": {},
   "outputs": [],
   "source": []
  }
 ],
 "metadata": {
  "kernelspec": {
   "display_name": "Python 3",
   "language": "python",
   "name": "python3"
  },
  "language_info": {
   "codemirror_mode": {
    "name": "ipython",
    "version": 3
   },
   "file_extension": ".py",
   "mimetype": "text/x-python",
   "name": "python",
   "nbconvert_exporter": "python",
   "pygments_lexer": "ipython3",
   "version": "3.7.3"
  }
 },
 "nbformat": 4,
 "nbformat_minor": 2
}
